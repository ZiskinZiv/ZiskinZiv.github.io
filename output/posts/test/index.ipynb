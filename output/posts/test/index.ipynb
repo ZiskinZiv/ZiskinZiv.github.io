{
 "cells": [
  {
   "cell_type": "markdown",
   "metadata": {},
   "source": [
    "## ML model switcher\n",
    "\n",
    "People say that python has no switch statement so to speak, and working with ``if else`` statements is tedius.\n",
    "What can be done ?\n",
    "Well, you guessed it - dictionaries !\n",
    "Apparently, dictionaries can return Objects of any kind (yay Python!), so after searching the web, i found [this](https://jaxenter.com/implement-switch-case-statement-python-138315.html) post and made myself a neat ML model switcher:"
   ]
  },
  {
   "cell_type": "code",
   "execution_count": 1,
   "metadata": {},
   "outputs": [],
   "source": [
    "class ML_Switcher(object):\n",
    "    def pick_model(self, model_name):\n",
    "        \"\"\"Dispatch method\"\"\"\n",
    "        method_name = str(model_name)\n",
    "        # Get the method from 'self'. Default to a lambda.\n",
    "        method = getattr(self, method_name, lambda: \"Invalid ML Model\")\n",
    "        # Call the method as we return it\n",
    "        return method()\n",
    "\n",
    "    def LR(self):\n",
    "        from sklearn.linear_model import LinearRegression\n",
    "        return LinearRegression(n_jobs=-1, copy_X=True)\n",
    "\n",
    "    def LASSOCV(self):\n",
    "        from sklearn.linear_model import LassoCV\n",
    "        import numpy as np\n",
    "        return LassoCV(random_state=42, cv=5, n_jobs=-1,\n",
    "                       alphas=np.logspace(-5, 1, 60))\n",
    "\n",
    "    def MTLASSOCV(self):\n",
    "        from sklearn.linear_model import MultiTaskLassoCV\n",
    "        import numpy as np\n",
    "        return MultiTaskLassoCV(random_state=42, cv=10, n_jobs=-1,\n",
    "                                alphas=np.logspace(-5, 2, 400))\n",
    "\n",
    "    def MTLASSO(self):\n",
    "        from sklearn.linear_model import MultiTaskLasso\n",
    "        return MultiTaskLasso()\n",
    "\n",
    "    def KRR(self):\n",
    "        from sklearn.kernel_ridge import KernelRidge\n",
    "        return KernelRidge(kernel='poly', degree=2)\n"
   ]
  },
  {
   "cell_type": "markdown",
   "metadata": {},
   "source": [
    "Now, i just instantiate the class:"
   ]
  },
  {
   "cell_type": "code",
   "execution_count": 2,
   "metadata": {},
   "outputs": [],
   "source": [
    "ml = ML_Switcher()"
   ]
  },
  {
   "cell_type": "markdown",
   "metadata": {},
   "source": [
    "and pick the LassoCV model:"
   ]
  },
  {
   "cell_type": "code",
   "execution_count": 3,
   "metadata": {},
   "outputs": [
    {
     "data": {
      "text/plain": [
       "LassoCV(alphas=array([1.00000e-05, 1.26385e-05, 1.59731e-05, 2.01876e-05, 2.55141e-05,\n",
       "       3.22459e-05, 4.07539e-05, 5.15068e-05, 6.50968e-05, 8.22724e-05,\n",
       "       1.03980e-04, 1.31415e-04, 1.66088e-04, 2.09910e-04, 2.65295e-04,\n",
       "       3.35292e-04, 4.23759e-04, 5.35567e-04, 6.76875e-04, 8.55467e-04,\n",
       "     ..., 2.45375e+00, 3.10117e+00,\n",
       "       3.91941e+00, 4.95354e+00, 6.26052e+00, 7.91234e+00, 1.00000e+01]),\n",
       "    copy_X=True, cv=5, eps=0.001, fit_intercept=True, max_iter=1000,\n",
       "    n_alphas=100, n_jobs=-1, normalize=False, positive=False,\n",
       "    precompute='auto', random_state=42, selection='cyclic', tol=0.0001,\n",
       "    verbose=False)"
      ]
     },
     "execution_count": 3,
     "metadata": {},
     "output_type": "execute_result"
    }
   ],
   "source": [
    "ml.pick_model('LASSOCV')"
   ]
  }
 ],
 "metadata": {
  "kernelspec": {
   "display_name": "Python 3",
   "language": "python",
   "name": "python3"
  },
  "language_info": {
   "codemirror_mode": {
    "name": "ipython",
    "version": 3
   },
   "file_extension": ".py",
   "mimetype": "text/x-python",
   "name": "python",
   "nbconvert_exporter": "python",
   "pygments_lexer": "ipython3",
   "version": "3.6.8"
  },
  "nikola": {
   "category": "",
   "date": "2019-03-31 12:56:28 UTC+03:00",
   "description": "",
   "link": "",
   "slug": "test",
   "tags": "",
   "title": "test",
   "type": "text"
  }
 },
 "nbformat": 4,
 "nbformat_minor": 2
}
